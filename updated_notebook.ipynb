{
 "cells": [
  {
   "cell_type": "code",
   "execution_count": null,
   "metadata": {
    "trusted": true
   },
   "outputs": [],
   "source": [
    "\n",
    "# Install and configure the Kaggle API\n",
    "!pip install kaggle\n",
    "\n",
    "# Ensure you have the Kaggle API key file (kaggle.json) in your ~/.kaggle directory or set it up here\n",
    "import os\n",
    "from kaggle.api.kaggle_api_extended import KaggleApi\n",
    "\n",
    "api = KaggleApi()\n",
    "api.authenticate()\n",
    "\n",
    "# Specify the dataset to download\n",
    "dataset = \"msambare/fer2013\"  # FER2013 dataset\n",
    "download_path = \"./datasets\"  # Directory to save the dataset\n",
    "\n",
    "# Download and unzip the dataset\n",
    "api.dataset_download_files(dataset, path=download_path, unzip=True)\n",
    "print(f\"Dataset downloaded and extracted to: {os.path.abspath(download_path)}\")\n"
   ]
  },
  {
   "cell_type": "code",
   "execution_count": null,
   "metadata": {
    "editable": false,
    "trusted": true
   },
   "outputs": [],
   "source": [
    "import numpy as np\n",
    "import pandas as pd\n",
    "import matplotlib.pyplot as plt\n",
    "import tensorflow as tf\n",
    "import cv2\n",
    "import os\n",
    "import glob\n",
    "import pickle\n",
    "from tensorflow import keras\n",
    "from tensorflow.keras import layers\n",
    "from tensorflow.keras.preprocessing import image\n",
    "from tensorflow.keras.preprocessing.image import ImageDataGenerator\n",
    "from tensorflow.keras.models import Sequential\n",
    "from tensorflow.keras.layers import Conv2D, MaxPool2D, Dropout, SpatialDropout2D, BatchNormalization, Input,Activation, Dense, Flatten ,MaxPooling2D\n",
    "from tensorflow.keras.optimizers import Adam, RMSprop\n",
    "from tensorflow.keras.callbacks import ReduceLROnPlateau, EarlyStopping,ModelCheckpoint\n",
    "from tensorflow.keras.utils import plot_model\n",
    "from tensorflow.keras.losses import binary_crossentropy\n",
    "from tensorflow.keras.models import Model,save_model\n",
    "from sklearn.metrics import accuracy_score, confusion_matrix,ConfusionMatrixDisplay"
   ]
  },
  {
   "cell_type": "code",
   "execution_count": null,
   "metadata": {
    "editable": false,
    "execution": {
     "iopub.execute_input": "2024-02-16T13:38:12.217151Z",
     "iopub.status.busy": "2024-02-16T13:38:12.216827Z",
     "iopub.status.idle": "2024-02-16T13:38:12.222298Z",
     "shell.execute_reply": "2024-02-16T13:38:12.22118Z",
     "shell.execute_reply.started": "2024-02-16T13:38:12.217128Z"
    },
    "trusted": true
   },
   "outputs": [],
   "source": [
    "path  = \"/kaggle/input/fer2013/\""
   ]
  },
  {
   "cell_type": "code",
   "execution_count": null,
   "metadata": {
    "editable": false,
    "execution": {
     "iopub.execute_input": "2024-02-16T13:38:12.854358Z",
     "iopub.status.busy": "2024-02-16T13:38:12.853977Z",
     "iopub.status.idle": "2024-02-16T13:38:12.863584Z",
     "shell.execute_reply": "2024-02-16T13:38:12.862632Z",
     "shell.execute_reply.started": "2024-02-16T13:38:12.854329Z"
    },
    "trusted": true
   },
   "outputs": [],
   "source": [
    "image_list = os.listdir(path)\n",
    "image_list"
   ]
  },
  {
   "cell_type": "code",
   "execution_count": null,
   "metadata": {
    "editable": false,
    "execution": {
     "iopub.execute_input": "2024-02-16T13:38:13.502641Z",
     "iopub.status.busy": "2024-02-16T13:38:13.502285Z",
     "iopub.status.idle": "2024-02-16T13:38:40.6736Z",
     "shell.execute_reply": "2024-02-16T13:38:40.672541Z",
     "shell.execute_reply.started": "2024-02-16T13:38:13.502614Z"
    },
    "trusted": true
   },
   "outputs": [],
   "source": [
    "image_filenames = glob.glob(os.path.join(path,'**/*.jpg'), recursive=True)\n",
    "\n",
    "# create an info dataframe\n",
    "df = pd.DataFrame({'filename': image_filenames})\n",
    "df['partition'] = df['filename'].apply(lambda x: x.split(os.sep)[-3])\n",
    "df['label'] = df['filename'].apply(lambda x: x.split(os.sep)[-2])\n",
    "\n",
    "df"
   ]
  },
  {
   "cell_type": "code",
   "execution_count": null,
   "metadata": {
    "editable": false,
    "execution": {
     "iopub.execute_input": "2024-02-16T13:38:40.675934Z",
     "iopub.status.busy": "2024-02-16T13:38:40.675575Z",
     "iopub.status.idle": "2024-02-16T13:38:43.621565Z",
     "shell.execute_reply": "2024-02-16T13:38:43.620665Z",
     "shell.execute_reply.started": "2024-02-16T13:38:40.675902Z"
    },
    "trusted": true
   },
   "outputs": [],
   "source": [
    "fig, axs = plt.subplots(7, 5, figsize=(20,20))\n",
    "for i in range(5):\n",
    "    axs.flat[i].imshow(plt.imread( df.query('label == \"angry\"')['filename'].iloc[i]))\n",
    "    axs.flat[i].set_title(str(\"angry\"))\n",
    "    axs.flat[i].axis('off')\n",
    "    \n",
    "for i in range(5):\n",
    "    axs.flat[i+5].imshow(plt.imread( df.query('label == \"disgust\"')['filename'].iloc[i]))\n",
    "    axs.flat[i+5].set_title(str(\"disgust\"))\n",
    "    axs.flat[i+5].axis('off')\n",
    "\n",
    "for i in range(5):\n",
    "    axs.flat[i+10].imshow(plt.imread( df.query('label == \"fear\"')['filename'].iloc[i]))\n",
    "    axs.flat[i+10].set_title(str(\"fear\"))\n",
    "    axs.flat[i+10].axis('off')\n",
    "\n",
    "for i in range(5):\n",
    "    axs.flat[i+15].imshow(plt.imread( df.query('label == \"happy\"')['filename'].iloc[i]))\n",
    "    axs.flat[i+15].set_title(str(\"happy\"))\n",
    "    axs.flat[i+15].axis('off')\n",
    "    \n",
    "for i in range(5):\n",
    "    axs.flat[i+20].imshow(plt.imread( df.query('label == \"neutral\"')['filename'].iloc[i]))\n",
    "    axs.flat[i+20].set_title(str(\"neutral\"))\n",
    "    axs.flat[i+20].axis('off')\n",
    "    \n",
    "for i in range(5):\n",
    "    axs.flat[i+25].imshow(plt.imread( df.query('label == \"sad\"')['filename'].iloc[i]))\n",
    "    axs.flat[i+25].set_title(str(\"sad\"))\n",
    "    axs.flat[i+25].axis('off')\n",
    "    \n",
    "for i in range(5):\n",
    "    axs.flat[i+30].imshow(plt.imread( df.query('label == \"surprise\"')['filename'].iloc[i]))\n",
    "    axs.flat[i+30].set_title(str(\"surprise\"))\n",
    "    axs.flat[i+30].axis('off')\n",
    "    \n",
    "plt.tight_layout()\n",
    "plt.show()\n"
   ]
  },
  {
   "cell_type": "code",
   "execution_count": null,
   "metadata": {
    "editable": false,
    "execution": {
     "iopub.execute_input": "2024-02-16T13:38:43.622849Z",
     "iopub.status.busy": "2024-02-16T13:38:43.622602Z",
     "iopub.status.idle": "2024-02-16T13:38:49.369061Z",
     "shell.execute_reply": "2024-02-16T13:38:49.368172Z",
     "shell.execute_reply.started": "2024-02-16T13:38:43.622827Z"
    },
    "trusted": true
   },
   "outputs": [],
   "source": [
    "image_generator=ImageDataGenerator(rescale=1/255)\n",
    "\n",
    "\n",
    "Training = image_generator.flow_from_directory('/kaggle/input/fer2013/train',target_size=(48,48),\n",
    "                                            batch_size=64,class_mode='categorical',shuffle=True)\n",
    "\n",
    "\n",
    "Test = image_generator.flow_from_directory('/kaggle/input/fer2013/test' ,target_size=(48,48),\n",
    "                                            batch_size=64,class_mode='categorical',shuffle=True)"
   ]
  },
  {
   "cell_type": "code",
   "execution_count": null,
   "metadata": {
    "editable": false,
    "execution": {
     "iopub.execute_input": "2024-02-16T13:38:49.371231Z",
     "iopub.status.busy": "2024-02-16T13:38:49.370934Z",
     "iopub.status.idle": "2024-02-16T13:38:49.389748Z",
     "shell.execute_reply": "2024-02-16T13:38:49.388847Z",
     "shell.execute_reply.started": "2024-02-16T13:38:49.371206Z"
    },
    "trusted": true
   },
   "outputs": [],
   "source": [
    "df['label'].value_counts(ascending=True)"
   ]
  },
  {
   "cell_type": "code",
   "execution_count": null,
   "metadata": {
    "editable": false,
    "execution": {
     "iopub.execute_input": "2024-02-16T13:38:49.391192Z",
     "iopub.status.busy": "2024-02-16T13:38:49.390899Z",
     "iopub.status.idle": "2024-02-16T13:38:49.396451Z",
     "shell.execute_reply": "2024-02-16T13:38:49.395397Z",
     "shell.execute_reply.started": "2024-02-16T13:38:49.391148Z"
    },
    "trusted": true
   },
   "outputs": [],
   "source": [
    "print(Training.class_indices)\n",
    "print(Test.class_indices)"
   ]
  },
  {
   "cell_type": "code",
   "execution_count": null,
   "metadata": {
    "editable": false,
    "execution": {
     "iopub.execute_input": "2024-02-16T13:38:49.398Z",
     "iopub.status.busy": "2024-02-16T13:38:49.397708Z",
     "iopub.status.idle": "2024-02-16T13:38:50.369099Z",
     "shell.execute_reply": "2024-02-16T13:38:50.368247Z",
     "shell.execute_reply.started": "2024-02-16T13:38:49.397976Z"
    },
    "trusted": true
   },
   "outputs": [],
   "source": [
    "classes = 7\n",
    "\n",
    "model = Sequential()\n",
    "\n",
    "#1st CNN layer\n",
    "model.add(Conv2D(64,(3,3),padding = 'same',input_shape = (48,48,3)))\n",
    "model.add(BatchNormalization())\n",
    "model.add(Activation('relu'))\n",
    "model.add(MaxPooling2D(pool_size = (2,2)))\n",
    "model.add(Dropout(0.3))\n",
    "\n",
    "#2nd CNN layer\n",
    "model.add(Conv2D(128,(3,3),padding = 'same'))\n",
    "model.add(BatchNormalization())\n",
    "model.add(Activation('relu'))\n",
    "model.add(MaxPooling2D(pool_size = (2,2)))\n",
    "model.add(Dropout (0.3))\n",
    "\n",
    "#3rd CNN layer\n",
    "model.add(Conv2D(512,(3,3),padding = 'same'))\n",
    "model.add(BatchNormalization())\n",
    "model.add(Activation('relu'))\n",
    "model.add(MaxPooling2D(pool_size = (2,2)))\n",
    "model.add(Dropout (0.3))\n",
    "\n",
    "#4th CNN layer\n",
    "model.add(Conv2D(512,(3,3), padding='same'))\n",
    "model.add(BatchNormalization())\n",
    "model.add(Activation('relu'))\n",
    "model.add(MaxPooling2D(pool_size=(2, 2)))\n",
    "model.add(Dropout(0.3))\n",
    "\n",
    "model.add(Flatten())\n",
    "\n",
    "#Fully connected 1st layer\n",
    "model.add(Dense(256))\n",
    "model.add(BatchNormalization())\n",
    "model.add(Activation('relu'))\n",
    "model.add(Dropout(0.3))\n",
    "\n",
    "\n",
    "# Fully connected layer 2nd layer\n",
    "model.add(Dense(512))\n",
    "model.add(BatchNormalization())\n",
    "model.add(Activation('relu'))\n",
    "model.add(Dropout(0.3))\n",
    "\n",
    "model.add(Dense(classes, activation='softmax'))\n",
    "\n",
    "\n",
    "\n",
    "opt = Adam(lr = 0.001)\n",
    "model.compile(optimizer=opt,loss='categorical_crossentropy', metrics=['accuracy'])\n",
    "model.summary()\n"
   ]
  },
  {
   "cell_type": "code",
   "execution_count": null,
   "metadata": {
    "editable": false,
    "execution": {
     "iopub.execute_input": "2024-02-16T13:38:50.37043Z",
     "iopub.status.busy": "2024-02-16T13:38:50.370151Z",
     "iopub.status.idle": "2024-02-16T13:51:58.329135Z",
     "shell.execute_reply": "2024-02-16T13:51:58.328212Z",
     "shell.execute_reply.started": "2024-02-16T13:38:50.370407Z"
    },
    "trusted": true
   },
   "outputs": [],
   "source": [
    "train_step=Training.n//Training.batch_size\n",
    "test_step=Test.n//Test.batch_size\n",
    "\n",
    "\n",
    "num_epochs = 20\n",
    "\n",
    "#checkpoint = ModelCheckpoint(\"./model.h5\", monitor='val_acc', verbose=1, save_best_only=True, mode='max')\n",
    "\n",
    "reduce_learningrate = ReduceLROnPlateau(monitor='val_loss',\n",
    "                              factor=0.2,\n",
    "                              patience=3,\n",
    "                              verbose=1,\n",
    "                              min_delta=0.0001)\n",
    "\n",
    "early_stopping = EarlyStopping(monitor='val_loss',\n",
    "                          min_delta=0,\n",
    "                          patience= 4,\n",
    "                          verbose=1,\n",
    "                          restore_best_weights=True\n",
    "                          )\n",
    "\n",
    "model_checkpoint = ModelCheckpoint('best_model_1.h5',monitor=\"val_accuracy\",verbose=1,\n",
    "                                save_best_only=True,mode=\"max\")\n",
    "\n",
    "callbacks_list = [early_stopping,reduce_learningrate,model_checkpoint]\n",
    "\n",
    "history = model.fit_generator(Training,\n",
    "                                      steps_per_epoch=train_step,\n",
    "                                      epochs=num_epochs, \n",
    "                                      validation_data=Test,\n",
    "                                      validation_steps=test_step,\n",
    "                                      callbacks=callbacks_list) "
   ]
  },
  {
   "cell_type": "code",
   "execution_count": null,
   "metadata": {
    "editable": false,
    "execution": {
     "iopub.execute_input": "2024-02-16T13:52:28.17821Z",
     "iopub.status.busy": "2024-02-16T13:52:28.177824Z",
     "iopub.status.idle": "2024-02-16T13:52:35.304038Z",
     "shell.execute_reply": "2024-02-16T13:52:35.303145Z",
     "shell.execute_reply.started": "2024-02-16T13:52:28.178157Z"
    },
    "trusted": true
   },
   "outputs": [],
   "source": [
    "score = model.evaluate(Test)\n",
    "print(score)"
   ]
  },
  {
   "cell_type": "code",
   "execution_count": null,
   "metadata": {
    "editable": false,
    "execution": {
     "iopub.execute_input": "2024-02-16T13:52:42.393637Z",
     "iopub.status.busy": "2024-02-16T13:52:42.392896Z",
     "iopub.status.idle": "2024-02-16T13:52:42.398502Z",
     "shell.execute_reply": "2024-02-16T13:52:42.397519Z",
     "shell.execute_reply.started": "2024-02-16T13:52:42.393606Z"
    },
    "trusted": true
   },
   "outputs": [],
   "source": [
    "print(Test.filepaths[1000])\n",
    "print('--------------------------------------')\n",
    "print(Test.classes[1000])"
   ]
  },
  {
   "cell_type": "code",
   "execution_count": null,
   "metadata": {
    "editable": false,
    "execution": {
     "iopub.execute_input": "2024-02-16T13:52:48.319043Z",
     "iopub.status.busy": "2024-02-16T13:52:48.318686Z",
     "iopub.status.idle": "2024-02-16T13:52:49.018739Z",
     "shell.execute_reply": "2024-02-16T13:52:49.017844Z",
     "shell.execute_reply.started": "2024-02-16T13:52:48.319015Z"
    },
    "trusted": true
   },
   "outputs": [],
   "source": [
    "images,labels=Test.next()\n",
    "pred=np.argmax(model.predict(tf.expand_dims(images[1],axis=0)))\n",
    "\n",
    "ls = list(Test.class_indices.keys())\n",
    "\n",
    "plt.imshow(images[1])\n",
    "plt.title(ls[pred])"
   ]
  },
  {
   "cell_type": "code",
   "execution_count": null,
   "metadata": {
    "editable": false,
    "execution": {
     "iopub.execute_input": "2024-02-16T13:52:59.25641Z",
     "iopub.status.busy": "2024-02-16T13:52:59.255828Z",
     "iopub.status.idle": "2024-02-16T13:52:59.474333Z",
     "shell.execute_reply": "2024-02-16T13:52:59.473415Z",
     "shell.execute_reply.started": "2024-02-16T13:52:59.256378Z"
    },
    "trusted": true
   },
   "outputs": [],
   "source": [
    "plt.plot(history.history['accuracy'],label='training')\n",
    "plt.plot(history.history['val_accuracy'],label='validation')\n",
    "plt.plot(history.history[\"loss\"],label='loss')\n",
    "plt.plot(history.history[\"val_loss\"],label='val_loss')\n",
    "plt.xlabel(\"Epochs\")\n",
    "plt.ylabel(\"Accuracy\")\n",
    "plt.legend()\n",
    "plt.show()"
   ]
  },
  {
   "cell_type": "code",
   "execution_count": null,
   "metadata": {
    "editable": false,
    "trusted": true
   },
   "outputs": [],
   "source": [
    "preds = model.predict(Test)\n",
    "y_pred = np.argmax(preds , axis = 1 )\n"
   ]
  },
  {
   "cell_type": "code",
   "execution_count": null,
   "metadata": {
    "editable": false,
    "trusted": true
   },
   "outputs": [],
   "source": [
    "y_pred"
   ]
  },
  {
   "cell_type": "code",
   "execution_count": null,
   "metadata": {
    "editable": false,
    "execution": {
     "iopub.execute_input": "2024-02-16T13:53:10.645104Z",
     "iopub.status.busy": "2024-02-16T13:53:10.644742Z",
     "iopub.status.idle": "2024-02-16T13:53:17.297162Z",
     "shell.execute_reply": "2024-02-16T13:53:17.295426Z",
     "shell.execute_reply.started": "2024-02-16T13:53:10.645075Z"
    },
    "trusted": true
   },
   "outputs": [],
   "source": [
    "y_pred = model.predict_generator(Test)\n",
    "y_pred_classes = np.argmax(y_pred, axis = 1)\n",
    "\n",
    "ConfusionMatrixDisplay(confusion_matrix(Test.classes,y_pred_classes),\n",
    "                       display_labels=list(Training.class_indices.keys())).plot()"
   ]
  },
  {
   "cell_type": "code",
   "execution_count": null,
   "metadata": {
    "editable": false,
    "execution": {
     "iopub.execute_input": "2024-02-16T14:44:11.326092Z",
     "iopub.status.busy": "2024-02-16T14:44:11.325718Z",
     "iopub.status.idle": "2024-02-16T14:44:11.458605Z",
     "shell.execute_reply": "2024-02-16T14:44:11.457836Z",
     "shell.execute_reply.started": "2024-02-16T14:44:11.326063Z"
    },
    "trusted": true
   },
   "outputs": [],
   "source": [
    "model.save('my_model.h5')"
   ]
  },
  {
   "cell_type": "code",
   "execution_count": null,
   "metadata": {
    "editable": false,
    "execution": {
     "iopub.execute_input": "2024-02-16T14:44:59.356414Z",
     "iopub.status.busy": "2024-02-16T14:44:59.355732Z",
     "iopub.status.idle": "2024-02-16T14:44:59.840269Z",
     "shell.execute_reply": "2024-02-16T14:44:59.839384Z",
     "shell.execute_reply.started": "2024-02-16T14:44:59.356382Z"
    },
    "trusted": true
   },
   "outputs": [],
   "source": [
    "# Loading the best fit model \n",
    "from keras.models import load_model\n",
    "model = load_model(\"my_model.h5\")\n",
    "model.summary()"
   ]
  },
  {
   "cell_type": "code",
   "execution_count": null,
   "metadata": {
    "editable": false
   },
   "outputs": [],
   "source": []
  },
  {
   "cell_type": "code",
   "execution_count": null,
   "metadata": {
    "editable": false
   },
   "outputs": [],
   "source": []
  }
 ],
 "metadata": {
  "kaggle": {
   "accelerator": "gpu",
   "dataSources": [
    {
     "datasetId": 786787,
     "sourceId": 1351797,
     "sourceType": "datasetVersion"
    }
   ],
   "dockerImageVersionId": 30646,
   "isGpuEnabled": true,
   "isInternetEnabled": false,
   "language": "python",
   "sourceType": "notebook"
  },
  "kernelspec": {
   "display_name": "Python 3",
   "language": "python",
   "name": "python3"
  },
  "language_info": {
   "codemirror_mode": {
    "name": "ipython",
    "version": 3
   },
   "file_extension": ".py",
   "mimetype": "text/x-python",
   "name": "python",
   "nbconvert_exporter": "python",
   "pygments_lexer": "ipython3",
   "version": "3.10.13"
  }
 },
 "nbformat": 4,
 "nbformat_minor": 4
}
